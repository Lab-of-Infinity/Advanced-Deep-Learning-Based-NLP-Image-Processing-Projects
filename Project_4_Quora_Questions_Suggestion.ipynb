{
  "nbformat": 4,
  "nbformat_minor": 0,
  "metadata": {
    "colab": {
      "provenance": [],
      "authorship_tag": "ABX9TyMe4B2a0jlTyW4zIZjxLean",
      "include_colab_link": true
    },
    "kernelspec": {
      "name": "python3",
      "display_name": "Python 3"
    },
    "language_info": {
      "name": "python"
    }
  },
  "cells": [
    {
      "cell_type": "markdown",
      "metadata": {
        "id": "view-in-github",
        "colab_type": "text"
      },
      "source": [
        "<a href=\"https://colab.research.google.com/github/Lab-of-Infinity/Advanced-Deep-Learning-Based-NLP-Image-Processing-Projects/blob/main/Project_4_Quora_Questions_Suggestion.ipynb\" target=\"_parent\"><img src=\"https://colab.research.google.com/assets/colab-badge.svg\" alt=\"Open In Colab\"/></a>"
      ]
    },
    {
      "cell_type": "markdown",
      "source": [
        "- **The user can enter a question, and the code retrieves the most similar questions from the dataset using the util.semantic_search method.**\n",
        "\n",
        "- **This is a symmetric search task, as the search queries have the same length and content as the questions in the corpus.**\n",
        "\n",
        "- **Quora Questions Dataset: https://www.quora.com/q/quoradata/First-Quora-Dataset-Release-Question-Pairs**\n",
        "\n",
        "\n",
        "\n",
        "- **As embeddings model, we use the SBERT model `quora-distilbert-multilingual`,\n",
        "that it aligned for 100 languages. I.e., you can type in a question in various languages and it will return the closest questions in the corpus (questions in the corpus are mainly in English).**"
      ],
      "metadata": {
        "id": "MiysoTUd6AxA"
      }
    },
    {
      "cell_type": "code",
      "source": [],
      "metadata": {
        "id": "E3lxq8Sl6OyH"
      },
      "execution_count": null,
      "outputs": []
    },
    {
      "cell_type": "code",
      "source": [],
      "metadata": {
        "id": "WzmgCXSi6Or_"
      },
      "execution_count": null,
      "outputs": []
    },
    {
      "cell_type": "code",
      "source": [],
      "metadata": {
        "id": "E68FXYak6OmW"
      },
      "execution_count": null,
      "outputs": []
    },
    {
      "cell_type": "code",
      "execution_count": null,
      "metadata": {
        "id": "wr-3-h_f1niA"
      },
      "outputs": [],
      "source": [
        "# https://pytorch.org/get-started/locally/\n",
        "!pip install torch torchvision torchaudio --extra-index-url https://download.pytorch.org/whl/cu113\n",
        "!pip install -U sentence-transformers"
      ]
    }
  ]
}